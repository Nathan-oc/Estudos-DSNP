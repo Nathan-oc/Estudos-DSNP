{
  "nbformat": 4,
  "nbformat_minor": 0,
  "metadata": {
    "colab": {
      "provenance": [],
      "include_colab_link": true
    },
    "kernelspec": {
      "name": "python3",
      "display_name": "Python 3"
    }
  },
  "cells": [
    {
      "cell_type": "markdown",
      "metadata": {
        "id": "view-in-github",
        "colab_type": "text"
      },
      "source": [
        "<a href=\"https://colab.research.google.com/github/Nathan-oc/Estudos-DSNP/blob/main/Lista_de_Exerc%C3%ADcios_R%C3%89PLICA.ipynb\" target=\"_parent\"><img src=\"https://colab.research.google.com/assets/colab-badge.svg\" alt=\"Open In Colab\"/></a>"
      ]
    },
    {
      "cell_type": "markdown",
      "metadata": {
        "id": "vvplGyW2N3rX"
      },
      "source": [
        "# Lista de Exercícios\n",
        "\n",
        "A lista de exercícios tem por objetivo colocar a mão na massa e relembrar os conceitos que foram passados nas aulas anteriores.\n",
        "\n",
        "Optei por não necessariamente seguir a sequencia das aulas, colocando os exercícios "
      ]
    },
    {
      "cell_type": "markdown",
      "metadata": {
        "id": "9GQoXiddIpr9"
      },
      "source": [
        "## Exercício 1\n",
        "\n",
        "* Importar o pacote Pandas\n",
        "* importar os dados de ocorrências da aviação civil neste link\n",
        "* Ver qual o tamanho (linhas x colunas) do *DataFrame*\n",
        "* Verificar as 5 primeiras "
      ]
    },
    {
      "cell_type": "markdown",
      "metadata": {
        "id": "hdRXuNktKw9p"
      },
      "source": [
        "**Importe o Pandas e importe os dados de ocorrências da aviação civil que se encontram em `csv` [neste link](https://raw.githubusercontent.com/carlosfab/curso_data_science_na_pratica/master/modulo_02/ocorrencias_aviacao.csv).**"
      ]
    },
    {
      "cell_type": "code",
      "metadata": {
        "id": "8TpD5o8MLMaV"
      },
      "source": [
        "import pandas as pd\n",
        "\n",
        "df = pd.read_csv(\"https://raw.githubusercontent.com/carlosfab/curso_data_science_na_pratica/master/modulo_02/ocorrencias_aviacao.csv\")"
      ],
      "execution_count": null,
      "outputs": []
    },
    {
      "cell_type": "code",
      "metadata": {
        "id": "IXrHqpl9LoW2"
      },
      "source": [
        "#@title\n",
        "# importar pandas\n",
        "import pandas as pd\n",
        "\n",
        "# importar dados\n",
        "df = pd.read_csv(\"https://raw.githubusercontent.com/carlosfab/curso_data_science_na_pratica/master/modulo_02/ocorrencias_aviacao.csv\")"
      ],
      "execution_count": null,
      "outputs": []
    },
    {
      "cell_type": "markdown",
      "metadata": {
        "id": "Tf8ScLP9LRjq"
      },
      "source": [
        "**Veja qual o tamanho (linhas e colunas) do conjunto de dados importado.**"
      ]
    },
    {
      "cell_type": "code",
      "metadata": {
        "id": "vGsqOw52LnKZ",
        "colab": {
          "base_uri": "https://localhost:8080/"
        },
        "outputId": "6bbf4326-68ce-4992-e9e9-0b02006b01f6"
      },
      "source": [
        "df.shape"
      ],
      "execution_count": null,
      "outputs": [
        {
          "output_type": "execute_result",
          "data": {
            "text/plain": [
              "(5208, 22)"
            ]
          },
          "metadata": {},
          "execution_count": 2
        }
      ]
    },
    {
      "cell_type": "code",
      "metadata": {
        "id": "NHsUQKI7L6te"
      },
      "source": [
        "#@title\n",
        "df.shape"
      ],
      "execution_count": null,
      "outputs": []
    },
    {
      "cell_type": "markdown",
      "metadata": {
        "id": "OvvxJlZXL-BH"
      },
      "source": [
        "**Identifique o tipo de cada coluna (inteiro, float, object).**"
      ]
    },
    {
      "cell_type": "code",
      "metadata": {
        "id": "MjAmdNplMOMJ",
        "colab": {
          "base_uri": "https://localhost:8080/"
        },
        "outputId": "e1c51d39-ca0d-45fd-e0d3-8fb6b63afda8"
      },
      "source": [
        "df.dtypes"
      ],
      "execution_count": null,
      "outputs": [
        {
          "output_type": "execute_result",
          "data": {
            "text/plain": [
              "codigo_ocorrencia                   int64\n",
              "ocorrencia_classificacao           object\n",
              "ocorrencia_tipo                    object\n",
              "ocorrencia_tipo_categoria          object\n",
              "ocorrencia_tipo_icao               object\n",
              "ocorrencia_latitude               float64\n",
              "ocorrencia_longitude              float64\n",
              "ocorrencia_cidade                  object\n",
              "ocorrencia_uf                      object\n",
              "ocorrencia_pais                    object\n",
              "ocorrencia_aerodromo               object\n",
              "ocorrencia_dia                     object\n",
              "ocorrencia_horario                 object\n",
              "investigacao_aeronave_liberada     object\n",
              "investigacao_status                object\n",
              "divulgacao_relatorio_numero        object\n",
              "divulgacao_relatorio_publicado     object\n",
              "divulgacao_dia_publicacao          object\n",
              "total_recomendacoes                 int64\n",
              "total_aeronaves_envolvidas          int64\n",
              "ocorrencia_saida_pista             object\n",
              "ocorrencia_dia_extracao            object\n",
              "dtype: object"
            ]
          },
          "metadata": {},
          "execution_count": 3
        }
      ]
    },
    {
      "cell_type": "code",
      "metadata": {
        "id": "FWBMMmJ0MPnj"
      },
      "source": [
        "#@title\n",
        "df.dtypes"
      ],
      "execution_count": null,
      "outputs": []
    },
    {
      "cell_type": "markdown",
      "metadata": {
        "id": "ew5bo-eZMTCZ"
      },
      "source": [
        "**Veja as 3 primeiras entradas do conjunto de dados.**"
      ]
    },
    {
      "cell_type": "code",
      "metadata": {
        "id": "e1xx_cXFMaM2",
        "colab": {
          "base_uri": "https://localhost:8080/",
          "height": 341
        },
        "outputId": "2f998ed0-a3ff-46d0-da54-6c1a60d72ea2"
      },
      "source": [
        "df.head(3)"
      ],
      "execution_count": null,
      "outputs": [
        {
          "output_type": "execute_result",
          "data": {
            "text/plain": [
              "   codigo_ocorrencia ocorrencia_classificacao  \\\n",
              "0    201305055424986                 ACIDENTE   \n",
              "1    201605160250139          INCIDENTE GRAVE   \n",
              "2    201805021421302                INCIDENTE   \n",
              "\n",
              "                                     ocorrencia_tipo  \\\n",
              "0                              FALHA DO MOTOR EM VOO   \n",
              "1  COLISÃO COM OBSTÁCULO DURANTE A DECOLAGEM E POUSO   \n",
              "2                                          AERÓDROMO   \n",
              "\n",
              "                           ocorrencia_tipo_categoria ocorrencia_tipo_icao  \\\n",
              "0                FALHA OU MAU FUNCIONAMENTO DO MOTOR               SCF-PP   \n",
              "1  COLISÃO COM OBSTÁCULO DURANTE A DECOLAGEM E POUSO                 CTOL   \n",
              "2                                          AERÓDROMO                 ADRM   \n",
              "\n",
              "   ocorrencia_latitude  ocorrencia_longitude ocorrencia_cidade ocorrencia_uf  \\\n",
              "0              -9.9085              -63.0333         ARIQUEMES            RO   \n",
              "1             -11.2644              -61.2589            CACOAL            RO   \n",
              "2             -11.4956              -61.4508            CACOAL            RO   \n",
              "\n",
              "  ocorrencia_pais  ... ocorrencia_horario investigacao_aeronave_liberada  \\\n",
              "0          BRASIL  ...           11:00:00                            NaN   \n",
              "1          BRASIL  ...           19:19:00                            SIM   \n",
              "2          BRASIL  ...           22:40:00                            SIM   \n",
              "\n",
              "  investigacao_status divulgacao_relatorio_numero  \\\n",
              "0          FINALIZADA                         ***   \n",
              "1               ATIVA          IG-084/CENIPA/2016   \n",
              "2          FINALIZADA                         ***   \n",
              "\n",
              "  divulgacao_relatorio_publicado divulgacao_dia_publicacao  \\\n",
              "0                            NÃO                       NaN   \n",
              "1                            NÃO                       NaN   \n",
              "2                            NÃO                       NaN   \n",
              "\n",
              "  total_recomendacoes total_aeronaves_envolvidas  ocorrencia_saida_pista  \\\n",
              "0                   0                          1                     NÃO   \n",
              "1                   0                          1                     NÃO   \n",
              "2                   0                          1                     NÃO   \n",
              "\n",
              "   ocorrencia_dia_extracao  \n",
              "0               2018-08-28  \n",
              "1               2018-08-28  \n",
              "2               2018-08-28  \n",
              "\n",
              "[3 rows x 22 columns]"
            ],
            "text/html": [
              "\n",
              "  <div id=\"df-0a68135b-fdc9-43f1-b9ae-a6dcd9c6ca12\">\n",
              "    <div class=\"colab-df-container\">\n",
              "      <div>\n",
              "<style scoped>\n",
              "    .dataframe tbody tr th:only-of-type {\n",
              "        vertical-align: middle;\n",
              "    }\n",
              "\n",
              "    .dataframe tbody tr th {\n",
              "        vertical-align: top;\n",
              "    }\n",
              "\n",
              "    .dataframe thead th {\n",
              "        text-align: right;\n",
              "    }\n",
              "</style>\n",
              "<table border=\"1\" class=\"dataframe\">\n",
              "  <thead>\n",
              "    <tr style=\"text-align: right;\">\n",
              "      <th></th>\n",
              "      <th>codigo_ocorrencia</th>\n",
              "      <th>ocorrencia_classificacao</th>\n",
              "      <th>ocorrencia_tipo</th>\n",
              "      <th>ocorrencia_tipo_categoria</th>\n",
              "      <th>ocorrencia_tipo_icao</th>\n",
              "      <th>ocorrencia_latitude</th>\n",
              "      <th>ocorrencia_longitude</th>\n",
              "      <th>ocorrencia_cidade</th>\n",
              "      <th>ocorrencia_uf</th>\n",
              "      <th>ocorrencia_pais</th>\n",
              "      <th>...</th>\n",
              "      <th>ocorrencia_horario</th>\n",
              "      <th>investigacao_aeronave_liberada</th>\n",
              "      <th>investigacao_status</th>\n",
              "      <th>divulgacao_relatorio_numero</th>\n",
              "      <th>divulgacao_relatorio_publicado</th>\n",
              "      <th>divulgacao_dia_publicacao</th>\n",
              "      <th>total_recomendacoes</th>\n",
              "      <th>total_aeronaves_envolvidas</th>\n",
              "      <th>ocorrencia_saida_pista</th>\n",
              "      <th>ocorrencia_dia_extracao</th>\n",
              "    </tr>\n",
              "  </thead>\n",
              "  <tbody>\n",
              "    <tr>\n",
              "      <th>0</th>\n",
              "      <td>201305055424986</td>\n",
              "      <td>ACIDENTE</td>\n",
              "      <td>FALHA DO MOTOR EM VOO</td>\n",
              "      <td>FALHA OU MAU FUNCIONAMENTO DO MOTOR</td>\n",
              "      <td>SCF-PP</td>\n",
              "      <td>-9.9085</td>\n",
              "      <td>-63.0333</td>\n",
              "      <td>ARIQUEMES</td>\n",
              "      <td>RO</td>\n",
              "      <td>BRASIL</td>\n",
              "      <td>...</td>\n",
              "      <td>11:00:00</td>\n",
              "      <td>NaN</td>\n",
              "      <td>FINALIZADA</td>\n",
              "      <td>***</td>\n",
              "      <td>NÃO</td>\n",
              "      <td>NaN</td>\n",
              "      <td>0</td>\n",
              "      <td>1</td>\n",
              "      <td>NÃO</td>\n",
              "      <td>2018-08-28</td>\n",
              "    </tr>\n",
              "    <tr>\n",
              "      <th>1</th>\n",
              "      <td>201605160250139</td>\n",
              "      <td>INCIDENTE GRAVE</td>\n",
              "      <td>COLISÃO COM OBSTÁCULO DURANTE A DECOLAGEM E POUSO</td>\n",
              "      <td>COLISÃO COM OBSTÁCULO DURANTE A DECOLAGEM E POUSO</td>\n",
              "      <td>CTOL</td>\n",
              "      <td>-11.2644</td>\n",
              "      <td>-61.2589</td>\n",
              "      <td>CACOAL</td>\n",
              "      <td>RO</td>\n",
              "      <td>BRASIL</td>\n",
              "      <td>...</td>\n",
              "      <td>19:19:00</td>\n",
              "      <td>SIM</td>\n",
              "      <td>ATIVA</td>\n",
              "      <td>IG-084/CENIPA/2016</td>\n",
              "      <td>NÃO</td>\n",
              "      <td>NaN</td>\n",
              "      <td>0</td>\n",
              "      <td>1</td>\n",
              "      <td>NÃO</td>\n",
              "      <td>2018-08-28</td>\n",
              "    </tr>\n",
              "    <tr>\n",
              "      <th>2</th>\n",
              "      <td>201805021421302</td>\n",
              "      <td>INCIDENTE</td>\n",
              "      <td>AERÓDROMO</td>\n",
              "      <td>AERÓDROMO</td>\n",
              "      <td>ADRM</td>\n",
              "      <td>-11.4956</td>\n",
              "      <td>-61.4508</td>\n",
              "      <td>CACOAL</td>\n",
              "      <td>RO</td>\n",
              "      <td>BRASIL</td>\n",
              "      <td>...</td>\n",
              "      <td>22:40:00</td>\n",
              "      <td>SIM</td>\n",
              "      <td>FINALIZADA</td>\n",
              "      <td>***</td>\n",
              "      <td>NÃO</td>\n",
              "      <td>NaN</td>\n",
              "      <td>0</td>\n",
              "      <td>1</td>\n",
              "      <td>NÃO</td>\n",
              "      <td>2018-08-28</td>\n",
              "    </tr>\n",
              "  </tbody>\n",
              "</table>\n",
              "<p>3 rows × 22 columns</p>\n",
              "</div>\n",
              "      <button class=\"colab-df-convert\" onclick=\"convertToInteractive('df-0a68135b-fdc9-43f1-b9ae-a6dcd9c6ca12')\"\n",
              "              title=\"Convert this dataframe to an interactive table.\"\n",
              "              style=\"display:none;\">\n",
              "        \n",
              "  <svg xmlns=\"http://www.w3.org/2000/svg\" height=\"24px\"viewBox=\"0 0 24 24\"\n",
              "       width=\"24px\">\n",
              "    <path d=\"M0 0h24v24H0V0z\" fill=\"none\"/>\n",
              "    <path d=\"M18.56 5.44l.94 2.06.94-2.06 2.06-.94-2.06-.94-.94-2.06-.94 2.06-2.06.94zm-11 1L8.5 8.5l.94-2.06 2.06-.94-2.06-.94L8.5 2.5l-.94 2.06-2.06.94zm10 10l.94 2.06.94-2.06 2.06-.94-2.06-.94-.94-2.06-.94 2.06-2.06.94z\"/><path d=\"M17.41 7.96l-1.37-1.37c-.4-.4-.92-.59-1.43-.59-.52 0-1.04.2-1.43.59L10.3 9.45l-7.72 7.72c-.78.78-.78 2.05 0 2.83L4 21.41c.39.39.9.59 1.41.59.51 0 1.02-.2 1.41-.59l7.78-7.78 2.81-2.81c.8-.78.8-2.07 0-2.86zM5.41 20L4 18.59l7.72-7.72 1.47 1.35L5.41 20z\"/>\n",
              "  </svg>\n",
              "      </button>\n",
              "      \n",
              "  <style>\n",
              "    .colab-df-container {\n",
              "      display:flex;\n",
              "      flex-wrap:wrap;\n",
              "      gap: 12px;\n",
              "    }\n",
              "\n",
              "    .colab-df-convert {\n",
              "      background-color: #E8F0FE;\n",
              "      border: none;\n",
              "      border-radius: 50%;\n",
              "      cursor: pointer;\n",
              "      display: none;\n",
              "      fill: #1967D2;\n",
              "      height: 32px;\n",
              "      padding: 0 0 0 0;\n",
              "      width: 32px;\n",
              "    }\n",
              "\n",
              "    .colab-df-convert:hover {\n",
              "      background-color: #E2EBFA;\n",
              "      box-shadow: 0px 1px 2px rgba(60, 64, 67, 0.3), 0px 1px 3px 1px rgba(60, 64, 67, 0.15);\n",
              "      fill: #174EA6;\n",
              "    }\n",
              "\n",
              "    [theme=dark] .colab-df-convert {\n",
              "      background-color: #3B4455;\n",
              "      fill: #D2E3FC;\n",
              "    }\n",
              "\n",
              "    [theme=dark] .colab-df-convert:hover {\n",
              "      background-color: #434B5C;\n",
              "      box-shadow: 0px 1px 3px 1px rgba(0, 0, 0, 0.15);\n",
              "      filter: drop-shadow(0px 1px 2px rgba(0, 0, 0, 0.3));\n",
              "      fill: #FFFFFF;\n",
              "    }\n",
              "  </style>\n",
              "\n",
              "      <script>\n",
              "        const buttonEl =\n",
              "          document.querySelector('#df-0a68135b-fdc9-43f1-b9ae-a6dcd9c6ca12 button.colab-df-convert');\n",
              "        buttonEl.style.display =\n",
              "          google.colab.kernel.accessAllowed ? 'block' : 'none';\n",
              "\n",
              "        async function convertToInteractive(key) {\n",
              "          const element = document.querySelector('#df-0a68135b-fdc9-43f1-b9ae-a6dcd9c6ca12');\n",
              "          const dataTable =\n",
              "            await google.colab.kernel.invokeFunction('convertToInteractive',\n",
              "                                                     [key], {});\n",
              "          if (!dataTable) return;\n",
              "\n",
              "          const docLinkHtml = 'Like what you see? Visit the ' +\n",
              "            '<a target=\"_blank\" href=https://colab.research.google.com/notebooks/data_table.ipynb>data table notebook</a>'\n",
              "            + ' to learn more about interactive tables.';\n",
              "          element.innerHTML = '';\n",
              "          dataTable['output_type'] = 'display_data';\n",
              "          await google.colab.output.renderOutput(dataTable, element);\n",
              "          const docLink = document.createElement('div');\n",
              "          docLink.innerHTML = docLinkHtml;\n",
              "          element.appendChild(docLink);\n",
              "        }\n",
              "      </script>\n",
              "    </div>\n",
              "  </div>\n",
              "  "
            ]
          },
          "metadata": {},
          "execution_count": 4
        }
      ]
    },
    {
      "cell_type": "code",
      "metadata": {
        "id": "yPAP4h5wMa24"
      },
      "source": [
        "#@title\n",
        "df.head(3)"
      ],
      "execution_count": null,
      "outputs": []
    },
    {
      "cell_type": "markdown",
      "metadata": {
        "id": "p_2rj-KqMbtA"
      },
      "source": [
        "**Veja quantos valores únicos existem para a coluna `ocorrencia_classificacao`**"
      ]
    },
    {
      "cell_type": "code",
      "metadata": {
        "id": "DVtxiIREMnnV",
        "colab": {
          "base_uri": "https://localhost:8080/"
        },
        "outputId": "a497150c-2d2f-456c-ccd1-1dda879678fe"
      },
      "source": [
        "df.ocorrencia_classificacao.unique()"
      ],
      "execution_count": null,
      "outputs": [
        {
          "output_type": "execute_result",
          "data": {
            "text/plain": [
              "array(['ACIDENTE', 'INCIDENTE GRAVE', 'INCIDENTE'], dtype=object)"
            ]
          },
          "metadata": {},
          "execution_count": 5
        }
      ]
    },
    {
      "cell_type": "code",
      "metadata": {
        "id": "Om6rX4OLMoAS"
      },
      "source": [
        "#@title\n",
        "df.ocorrencia_classificacao.unique()"
      ],
      "execution_count": null,
      "outputs": []
    },
    {
      "cell_type": "markdown",
      "metadata": {
        "id": "ZoUq8qxPMqPj"
      },
      "source": [
        "**Descubra qual Estado possui o maior número de ocorrências com aeronaves civis.**"
      ]
    },
    {
      "cell_type": "code",
      "metadata": {
        "id": "Fdin50sWM29y",
        "colab": {
          "base_uri": "https://localhost:8080/"
        },
        "outputId": "13f0bee0-9620-4de6-9306-0b8d7a51653e"
      },
      "source": [
        "df.ocorrencia_uf.value_counts(ascending = False)"
      ],
      "execution_count": null,
      "outputs": [
        {
          "output_type": "execute_result",
          "data": {
            "text/plain": [
              "SP     1207\n",
              "RJ      498\n",
              "MG      476\n",
              "PR      437\n",
              "RS      350\n",
              "GO      268\n",
              "PA      255\n",
              "MT      244\n",
              "AM      219\n",
              "BA      208\n",
              "SC      160\n",
              "DF      151\n",
              "MS      132\n",
              "PE       88\n",
              "CE       75\n",
              "ES       66\n",
              "MA       63\n",
              "TO       54\n",
              "AC       53\n",
              "RR       50\n",
              "PI       39\n",
              "RO       30\n",
              "PB       20\n",
              "SE       18\n",
              "AL       16\n",
              "RN       15\n",
              "AP       13\n",
              "***       3\n",
              "Name: ocorrencia_uf, dtype: int64"
            ]
          },
          "metadata": {},
          "execution_count": 7
        }
      ]
    },
    {
      "cell_type": "code",
      "source": [
        "df.ocorrencia_uf.value_counts(ascending = False).index[0]"
      ],
      "metadata": {
        "colab": {
          "base_uri": "https://localhost:8080/",
          "height": 35
        },
        "id": "hDdK_t8etmFJ",
        "outputId": "d0299d89-92ae-403d-db8c-d7fe25cacc98"
      },
      "execution_count": null,
      "outputs": [
        {
          "output_type": "execute_result",
          "data": {
            "text/plain": [
              "'SP'"
            ],
            "application/vnd.google.colaboratory.intrinsic+json": {
              "type": "string"
            }
          },
          "metadata": {},
          "execution_count": 11
        }
      ]
    },
    {
      "cell_type": "code",
      "metadata": {
        "id": "p1zFI2MnM_I7"
      },
      "source": [
        "#@title\n",
        "# a resposta é SP, com 1.207 ocorrências\n",
        "df.ocorrencia_uf.value_counts()"
      ],
      "execution_count": null,
      "outputs": []
    },
    {
      "cell_type": "markdown",
      "metadata": {
        "id": "jaE4lKoMNDNG"
      },
      "source": [
        "**Quantos por cento das ocorrências são do tipo `FALHA DO MOTOR EM VOO`?**"
      ]
    },
    {
      "cell_type": "code",
      "metadata": {
        "id": "MZNDxepbNqFr",
        "colab": {
          "base_uri": "https://localhost:8080/"
        },
        "outputId": "4595adb7-e0f4-4c4c-da01-9643b4455808"
      },
      "source": [
        "df[df['ocorrencia_tipo'] == 'FALHA DO MOTOR EM VOO'].shape[0] / df.shape[0]"
      ],
      "execution_count": null,
      "outputs": [
        {
          "output_type": "execute_result",
          "data": {
            "text/plain": [
              "0.13095238095238096"
            ]
          },
          "metadata": {},
          "execution_count": 15
        }
      ]
    },
    {
      "cell_type": "code",
      "metadata": {
        "id": "RM8bxW-MNqd8"
      },
      "source": [
        "#@title\n",
        "df.loc[df.ocorrencia_tipo == \"FALHA DO MOTOR EM VOO\"].shape[0] / df.shape[0]"
      ],
      "execution_count": null,
      "outputs": []
    },
    {
      "cell_type": "markdown",
      "metadata": {
        "id": "BZCNVc1NOVeb"
      },
      "source": [
        "## Exercício 2\n",
        "\n",
        "Você irá trabalhar agora com os dados da ação BBAS3, do Banco do Brasil na BOVESPA.\n",
        "\n",
        "Na variável `df_bbas3`, foi importado [este arquivo `csv`](https://raw.githubusercontent.com/carlosfab/curso_data_science_na_pratica/master/modulo_02/BBAS3.SA.csv), onde o *index* do *DataFrame* representa os valores da ação para determinado dia. Responda as perguntas abaixo."
      ]
    },
    {
      "cell_type": "code",
      "metadata": {
        "id": "4XZI_FjDPFsR"
      },
      "source": [
        "# importar pandas\n",
        "import pandas as pd\n",
        "\n",
        "# importar o csv com dados da BBAS3\n",
        "df_bbas3 = pd.read_csv(\"https://raw.githubusercontent.com/carlosfab/curso_data_science_na_pratica/master/modulo_02/BBAS3.SA.csv\",\n",
        "                       index_col=\"Date\")"
      ],
      "execution_count": null,
      "outputs": []
    },
    {
      "cell_type": "markdown",
      "metadata": {
        "id": "j5gGguY3P67Q"
      },
      "source": [
        "**Veja as 5 primeiras entradas da variável `df_bbas3`.**"
      ]
    },
    {
      "cell_type": "code",
      "metadata": {
        "id": "MlGjWTeXQEB3",
        "colab": {
          "base_uri": "https://localhost:8080/",
          "height": 238
        },
        "outputId": "2ed8207e-04ef-4492-bc36-e1f70d638b74"
      },
      "source": [
        "df_bbas3.head()"
      ],
      "execution_count": null,
      "outputs": [
        {
          "output_type": "execute_result",
          "data": {
            "text/plain": [
              "                 Open       High        Low      Close  Adj Close    Volume\n",
              "Date                                                                       \n",
              "2018-09-21  29.730000  30.580000  29.340000  30.580000  28.680056  16301600\n",
              "2018-09-24  30.379999  30.700001  29.500000  29.730000  27.882866  13086900\n",
              "2018-09-25  29.030001  29.760000  28.809999  29.549999  27.714045  11742900\n",
              "2018-09-26  29.650000  29.969999  29.209999  29.450001  27.620264  12842400\n",
              "2018-09-27  29.680000  30.299999  29.680000  30.290001  28.408072   8767900"
            ],
            "text/html": [
              "\n",
              "  <div id=\"df-f5b868ca-9b52-4a89-8cc5-031f7ea3c26a\">\n",
              "    <div class=\"colab-df-container\">\n",
              "      <div>\n",
              "<style scoped>\n",
              "    .dataframe tbody tr th:only-of-type {\n",
              "        vertical-align: middle;\n",
              "    }\n",
              "\n",
              "    .dataframe tbody tr th {\n",
              "        vertical-align: top;\n",
              "    }\n",
              "\n",
              "    .dataframe thead th {\n",
              "        text-align: right;\n",
              "    }\n",
              "</style>\n",
              "<table border=\"1\" class=\"dataframe\">\n",
              "  <thead>\n",
              "    <tr style=\"text-align: right;\">\n",
              "      <th></th>\n",
              "      <th>Open</th>\n",
              "      <th>High</th>\n",
              "      <th>Low</th>\n",
              "      <th>Close</th>\n",
              "      <th>Adj Close</th>\n",
              "      <th>Volume</th>\n",
              "    </tr>\n",
              "    <tr>\n",
              "      <th>Date</th>\n",
              "      <th></th>\n",
              "      <th></th>\n",
              "      <th></th>\n",
              "      <th></th>\n",
              "      <th></th>\n",
              "      <th></th>\n",
              "    </tr>\n",
              "  </thead>\n",
              "  <tbody>\n",
              "    <tr>\n",
              "      <th>2018-09-21</th>\n",
              "      <td>29.730000</td>\n",
              "      <td>30.580000</td>\n",
              "      <td>29.340000</td>\n",
              "      <td>30.580000</td>\n",
              "      <td>28.680056</td>\n",
              "      <td>16301600</td>\n",
              "    </tr>\n",
              "    <tr>\n",
              "      <th>2018-09-24</th>\n",
              "      <td>30.379999</td>\n",
              "      <td>30.700001</td>\n",
              "      <td>29.500000</td>\n",
              "      <td>29.730000</td>\n",
              "      <td>27.882866</td>\n",
              "      <td>13086900</td>\n",
              "    </tr>\n",
              "    <tr>\n",
              "      <th>2018-09-25</th>\n",
              "      <td>29.030001</td>\n",
              "      <td>29.760000</td>\n",
              "      <td>28.809999</td>\n",
              "      <td>29.549999</td>\n",
              "      <td>27.714045</td>\n",
              "      <td>11742900</td>\n",
              "    </tr>\n",
              "    <tr>\n",
              "      <th>2018-09-26</th>\n",
              "      <td>29.650000</td>\n",
              "      <td>29.969999</td>\n",
              "      <td>29.209999</td>\n",
              "      <td>29.450001</td>\n",
              "      <td>27.620264</td>\n",
              "      <td>12842400</td>\n",
              "    </tr>\n",
              "    <tr>\n",
              "      <th>2018-09-27</th>\n",
              "      <td>29.680000</td>\n",
              "      <td>30.299999</td>\n",
              "      <td>29.680000</td>\n",
              "      <td>30.290001</td>\n",
              "      <td>28.408072</td>\n",
              "      <td>8767900</td>\n",
              "    </tr>\n",
              "  </tbody>\n",
              "</table>\n",
              "</div>\n",
              "      <button class=\"colab-df-convert\" onclick=\"convertToInteractive('df-f5b868ca-9b52-4a89-8cc5-031f7ea3c26a')\"\n",
              "              title=\"Convert this dataframe to an interactive table.\"\n",
              "              style=\"display:none;\">\n",
              "        \n",
              "  <svg xmlns=\"http://www.w3.org/2000/svg\" height=\"24px\"viewBox=\"0 0 24 24\"\n",
              "       width=\"24px\">\n",
              "    <path d=\"M0 0h24v24H0V0z\" fill=\"none\"/>\n",
              "    <path d=\"M18.56 5.44l.94 2.06.94-2.06 2.06-.94-2.06-.94-.94-2.06-.94 2.06-2.06.94zm-11 1L8.5 8.5l.94-2.06 2.06-.94-2.06-.94L8.5 2.5l-.94 2.06-2.06.94zm10 10l.94 2.06.94-2.06 2.06-.94-2.06-.94-.94-2.06-.94 2.06-2.06.94z\"/><path d=\"M17.41 7.96l-1.37-1.37c-.4-.4-.92-.59-1.43-.59-.52 0-1.04.2-1.43.59L10.3 9.45l-7.72 7.72c-.78.78-.78 2.05 0 2.83L4 21.41c.39.39.9.59 1.41.59.51 0 1.02-.2 1.41-.59l7.78-7.78 2.81-2.81c.8-.78.8-2.07 0-2.86zM5.41 20L4 18.59l7.72-7.72 1.47 1.35L5.41 20z\"/>\n",
              "  </svg>\n",
              "      </button>\n",
              "      \n",
              "  <style>\n",
              "    .colab-df-container {\n",
              "      display:flex;\n",
              "      flex-wrap:wrap;\n",
              "      gap: 12px;\n",
              "    }\n",
              "\n",
              "    .colab-df-convert {\n",
              "      background-color: #E8F0FE;\n",
              "      border: none;\n",
              "      border-radius: 50%;\n",
              "      cursor: pointer;\n",
              "      display: none;\n",
              "      fill: #1967D2;\n",
              "      height: 32px;\n",
              "      padding: 0 0 0 0;\n",
              "      width: 32px;\n",
              "    }\n",
              "\n",
              "    .colab-df-convert:hover {\n",
              "      background-color: #E2EBFA;\n",
              "      box-shadow: 0px 1px 2px rgba(60, 64, 67, 0.3), 0px 1px 3px 1px rgba(60, 64, 67, 0.15);\n",
              "      fill: #174EA6;\n",
              "    }\n",
              "\n",
              "    [theme=dark] .colab-df-convert {\n",
              "      background-color: #3B4455;\n",
              "      fill: #D2E3FC;\n",
              "    }\n",
              "\n",
              "    [theme=dark] .colab-df-convert:hover {\n",
              "      background-color: #434B5C;\n",
              "      box-shadow: 0px 1px 3px 1px rgba(0, 0, 0, 0.15);\n",
              "      filter: drop-shadow(0px 1px 2px rgba(0, 0, 0, 0.3));\n",
              "      fill: #FFFFFF;\n",
              "    }\n",
              "  </style>\n",
              "\n",
              "      <script>\n",
              "        const buttonEl =\n",
              "          document.querySelector('#df-f5b868ca-9b52-4a89-8cc5-031f7ea3c26a button.colab-df-convert');\n",
              "        buttonEl.style.display =\n",
              "          google.colab.kernel.accessAllowed ? 'block' : 'none';\n",
              "\n",
              "        async function convertToInteractive(key) {\n",
              "          const element = document.querySelector('#df-f5b868ca-9b52-4a89-8cc5-031f7ea3c26a');\n",
              "          const dataTable =\n",
              "            await google.colab.kernel.invokeFunction('convertToInteractive',\n",
              "                                                     [key], {});\n",
              "          if (!dataTable) return;\n",
              "\n",
              "          const docLinkHtml = 'Like what you see? Visit the ' +\n",
              "            '<a target=\"_blank\" href=https://colab.research.google.com/notebooks/data_table.ipynb>data table notebook</a>'\n",
              "            + ' to learn more about interactive tables.';\n",
              "          element.innerHTML = '';\n",
              "          dataTable['output_type'] = 'display_data';\n",
              "          await google.colab.output.renderOutput(dataTable, element);\n",
              "          const docLink = document.createElement('div');\n",
              "          docLink.innerHTML = docLinkHtml;\n",
              "          element.appendChild(docLink);\n",
              "        }\n",
              "      </script>\n",
              "    </div>\n",
              "  </div>\n",
              "  "
            ]
          },
          "metadata": {},
          "execution_count": 17
        }
      ]
    },
    {
      "cell_type": "code",
      "metadata": {
        "id": "vRCeUP_lQGai"
      },
      "source": [
        "#@title\n",
        "df_bbas3.head()"
      ],
      "execution_count": null,
      "outputs": []
    },
    {
      "cell_type": "markdown",
      "metadata": {
        "id": "O3tTLDfTQTGZ"
      },
      "source": [
        "**Quais são os valores da ação para o dia 04 de outubro de 2018?**"
      ]
    },
    {
      "cell_type": "code",
      "metadata": {
        "id": "kPSOenAuQj81",
        "colab": {
          "base_uri": "https://localhost:8080/"
        },
        "outputId": "b8388316-cf1e-43fc-9a8f-466f398ba2fc"
      },
      "source": [
        "df_bbas3.loc['2018-10-04']"
      ],
      "execution_count": null,
      "outputs": [
        {
          "output_type": "execute_result",
          "data": {
            "text/plain": [
              "Open         3.368000e+01\n",
              "High         3.588000e+01\n",
              "Low          3.352000e+01\n",
              "Close        3.512000e+01\n",
              "Adj Close    3.293799e+01\n",
              "Volume       2.792000e+07\n",
              "Name: 2018-10-04, dtype: float64"
            ]
          },
          "metadata": {},
          "execution_count": 19
        }
      ]
    },
    {
      "cell_type": "code",
      "metadata": {
        "id": "70QKSq2yQmCm"
      },
      "source": [
        "#@title\n",
        "df_bbas3.loc[\"2018-10-04\"]"
      ],
      "execution_count": null,
      "outputs": []
    },
    {
      "cell_type": "markdown",
      "metadata": {
        "id": "PRZtV761Qr0-"
      },
      "source": [
        "**Qual a média do Volume financeiro movimentado em todo o período?**"
      ]
    },
    {
      "cell_type": "code",
      "metadata": {
        "id": "n-vZleQPEGey",
        "colab": {
          "base_uri": "https://localhost:8080/"
        },
        "outputId": "29293260-a1cb-483b-e416-a94613ffc18d"
      },
      "source": [
        "df_bbas3.Volume.mean()"
      ],
      "execution_count": null,
      "outputs": [
        {
          "output_type": "execute_result",
          "data": {
            "text/plain": [
              "11928526.016260162"
            ]
          },
          "metadata": {},
          "execution_count": 20
        }
      ]
    },
    {
      "cell_type": "code",
      "metadata": {
        "id": "UUhGYf2YEPEo"
      },
      "source": [
        "#@title\n",
        "df_bbas3.Volume.mean()"
      ],
      "execution_count": null,
      "outputs": []
    },
    {
      "cell_type": "markdown",
      "metadata": {
        "id": "_pO0tCV1EdD0"
      },
      "source": [
        "## Exercício 3\n",
        "\n",
        "Você irá trabalhar agora com os dados do projeto +BIKE, usado em aulas passadas.\n",
        "\n",
        "Na variável df_bike, foi importado [este arquivo csv](http://dl.dropboxusercontent.com/s/yyfeoxqw61o3iel/df_rides.csv).\n",
        "\n"
      ]
    },
    {
      "cell_type": "code",
      "metadata": {
        "id": "YFvJfTuVE0da",
        "colab": {
          "base_uri": "https://localhost:8080/",
          "height": 337
        },
        "outputId": "197956e1-ad34-4712-f819-515c646c84dc"
      },
      "source": [
        "# importar pandas\n",
        "import pandas as pd\n",
        "\n",
        "# importar o csv com dados da BBAS3\n",
        "df_bike = pd.read_csv(\"http://dl.dropboxusercontent.com/s/yyfeoxqw61o3iel/df_rides.csv\")\n",
        "\n",
        "# ver as primeiras entradas\n",
        "df_bike.head()"
      ],
      "execution_count": null,
      "outputs": [
        {
          "output_type": "execute_result",
          "data": {
            "text/plain": [
              "  user_gender user_birthdate user_residence   ride_date time_start  time_end  \\\n",
              "0           M     1971-06-08            NaN  2018-01-01   06:05:18  06:21:33   \n",
              "1           M     1989-02-11             DF  2018-01-01   06:27:01  06:32:17   \n",
              "2           M     1968-07-19            NaN  2018-01-01   06:29:33  06:44:57   \n",
              "3           M     1991-12-19            NaN  2018-01-01   06:53:53  06:59:45   \n",
              "4           M     1969-03-03             DF  2018-01-01   06:58:56  17:40:04   \n",
              "\n",
              "                     station_start  \\\n",
              "0                11 - Rodoviária 2   \n",
              "1         26 - Ministério da Saude   \n",
              "2                11 - Rodoviária 2   \n",
              "3  10 - Ministério dos Transportes   \n",
              "4                   15 - Brasil 21   \n",
              "\n",
              "                                         station_end  ride_duration  ride_late  \n",
              "0                            41 - Instituto de Artes      16.250000        0.0  \n",
              "1  28 - CNMP - Conselho Nacional do Ministério Pú...       5.266667        0.0  \n",
              "2                            43 - Biblioteca Central      15.400000        0.0  \n",
              "3                                     6 - Rodoviária       5.866667        0.0  \n",
              "4                                  11 - Rodoviária 2     641.133333        1.0  "
            ],
            "text/html": [
              "\n",
              "  <div id=\"df-d8878c05-7198-4291-bf91-90d705451867\">\n",
              "    <div class=\"colab-df-container\">\n",
              "      <div>\n",
              "<style scoped>\n",
              "    .dataframe tbody tr th:only-of-type {\n",
              "        vertical-align: middle;\n",
              "    }\n",
              "\n",
              "    .dataframe tbody tr th {\n",
              "        vertical-align: top;\n",
              "    }\n",
              "\n",
              "    .dataframe thead th {\n",
              "        text-align: right;\n",
              "    }\n",
              "</style>\n",
              "<table border=\"1\" class=\"dataframe\">\n",
              "  <thead>\n",
              "    <tr style=\"text-align: right;\">\n",
              "      <th></th>\n",
              "      <th>user_gender</th>\n",
              "      <th>user_birthdate</th>\n",
              "      <th>user_residence</th>\n",
              "      <th>ride_date</th>\n",
              "      <th>time_start</th>\n",
              "      <th>time_end</th>\n",
              "      <th>station_start</th>\n",
              "      <th>station_end</th>\n",
              "      <th>ride_duration</th>\n",
              "      <th>ride_late</th>\n",
              "    </tr>\n",
              "  </thead>\n",
              "  <tbody>\n",
              "    <tr>\n",
              "      <th>0</th>\n",
              "      <td>M</td>\n",
              "      <td>1971-06-08</td>\n",
              "      <td>NaN</td>\n",
              "      <td>2018-01-01</td>\n",
              "      <td>06:05:18</td>\n",
              "      <td>06:21:33</td>\n",
              "      <td>11 - Rodoviária 2</td>\n",
              "      <td>41 - Instituto de Artes</td>\n",
              "      <td>16.250000</td>\n",
              "      <td>0.0</td>\n",
              "    </tr>\n",
              "    <tr>\n",
              "      <th>1</th>\n",
              "      <td>M</td>\n",
              "      <td>1989-02-11</td>\n",
              "      <td>DF</td>\n",
              "      <td>2018-01-01</td>\n",
              "      <td>06:27:01</td>\n",
              "      <td>06:32:17</td>\n",
              "      <td>26 - Ministério da Saude</td>\n",
              "      <td>28 - CNMP - Conselho Nacional do Ministério Pú...</td>\n",
              "      <td>5.266667</td>\n",
              "      <td>0.0</td>\n",
              "    </tr>\n",
              "    <tr>\n",
              "      <th>2</th>\n",
              "      <td>M</td>\n",
              "      <td>1968-07-19</td>\n",
              "      <td>NaN</td>\n",
              "      <td>2018-01-01</td>\n",
              "      <td>06:29:33</td>\n",
              "      <td>06:44:57</td>\n",
              "      <td>11 - Rodoviária 2</td>\n",
              "      <td>43 - Biblioteca Central</td>\n",
              "      <td>15.400000</td>\n",
              "      <td>0.0</td>\n",
              "    </tr>\n",
              "    <tr>\n",
              "      <th>3</th>\n",
              "      <td>M</td>\n",
              "      <td>1991-12-19</td>\n",
              "      <td>NaN</td>\n",
              "      <td>2018-01-01</td>\n",
              "      <td>06:53:53</td>\n",
              "      <td>06:59:45</td>\n",
              "      <td>10 - Ministério dos Transportes</td>\n",
              "      <td>6 - Rodoviária</td>\n",
              "      <td>5.866667</td>\n",
              "      <td>0.0</td>\n",
              "    </tr>\n",
              "    <tr>\n",
              "      <th>4</th>\n",
              "      <td>M</td>\n",
              "      <td>1969-03-03</td>\n",
              "      <td>DF</td>\n",
              "      <td>2018-01-01</td>\n",
              "      <td>06:58:56</td>\n",
              "      <td>17:40:04</td>\n",
              "      <td>15 - Brasil 21</td>\n",
              "      <td>11 - Rodoviária 2</td>\n",
              "      <td>641.133333</td>\n",
              "      <td>1.0</td>\n",
              "    </tr>\n",
              "  </tbody>\n",
              "</table>\n",
              "</div>\n",
              "      <button class=\"colab-df-convert\" onclick=\"convertToInteractive('df-d8878c05-7198-4291-bf91-90d705451867')\"\n",
              "              title=\"Convert this dataframe to an interactive table.\"\n",
              "              style=\"display:none;\">\n",
              "        \n",
              "  <svg xmlns=\"http://www.w3.org/2000/svg\" height=\"24px\"viewBox=\"0 0 24 24\"\n",
              "       width=\"24px\">\n",
              "    <path d=\"M0 0h24v24H0V0z\" fill=\"none\"/>\n",
              "    <path d=\"M18.56 5.44l.94 2.06.94-2.06 2.06-.94-2.06-.94-.94-2.06-.94 2.06-2.06.94zm-11 1L8.5 8.5l.94-2.06 2.06-.94-2.06-.94L8.5 2.5l-.94 2.06-2.06.94zm10 10l.94 2.06.94-2.06 2.06-.94-2.06-.94-.94-2.06-.94 2.06-2.06.94z\"/><path d=\"M17.41 7.96l-1.37-1.37c-.4-.4-.92-.59-1.43-.59-.52 0-1.04.2-1.43.59L10.3 9.45l-7.72 7.72c-.78.78-.78 2.05 0 2.83L4 21.41c.39.39.9.59 1.41.59.51 0 1.02-.2 1.41-.59l7.78-7.78 2.81-2.81c.8-.78.8-2.07 0-2.86zM5.41 20L4 18.59l7.72-7.72 1.47 1.35L5.41 20z\"/>\n",
              "  </svg>\n",
              "      </button>\n",
              "      \n",
              "  <style>\n",
              "    .colab-df-container {\n",
              "      display:flex;\n",
              "      flex-wrap:wrap;\n",
              "      gap: 12px;\n",
              "    }\n",
              "\n",
              "    .colab-df-convert {\n",
              "      background-color: #E8F0FE;\n",
              "      border: none;\n",
              "      border-radius: 50%;\n",
              "      cursor: pointer;\n",
              "      display: none;\n",
              "      fill: #1967D2;\n",
              "      height: 32px;\n",
              "      padding: 0 0 0 0;\n",
              "      width: 32px;\n",
              "    }\n",
              "\n",
              "    .colab-df-convert:hover {\n",
              "      background-color: #E2EBFA;\n",
              "      box-shadow: 0px 1px 2px rgba(60, 64, 67, 0.3), 0px 1px 3px 1px rgba(60, 64, 67, 0.15);\n",
              "      fill: #174EA6;\n",
              "    }\n",
              "\n",
              "    [theme=dark] .colab-df-convert {\n",
              "      background-color: #3B4455;\n",
              "      fill: #D2E3FC;\n",
              "    }\n",
              "\n",
              "    [theme=dark] .colab-df-convert:hover {\n",
              "      background-color: #434B5C;\n",
              "      box-shadow: 0px 1px 3px 1px rgba(0, 0, 0, 0.15);\n",
              "      filter: drop-shadow(0px 1px 2px rgba(0, 0, 0, 0.3));\n",
              "      fill: #FFFFFF;\n",
              "    }\n",
              "  </style>\n",
              "\n",
              "      <script>\n",
              "        const buttonEl =\n",
              "          document.querySelector('#df-d8878c05-7198-4291-bf91-90d705451867 button.colab-df-convert');\n",
              "        buttonEl.style.display =\n",
              "          google.colab.kernel.accessAllowed ? 'block' : 'none';\n",
              "\n",
              "        async function convertToInteractive(key) {\n",
              "          const element = document.querySelector('#df-d8878c05-7198-4291-bf91-90d705451867');\n",
              "          const dataTable =\n",
              "            await google.colab.kernel.invokeFunction('convertToInteractive',\n",
              "                                                     [key], {});\n",
              "          if (!dataTable) return;\n",
              "\n",
              "          const docLinkHtml = 'Like what you see? Visit the ' +\n",
              "            '<a target=\"_blank\" href=https://colab.research.google.com/notebooks/data_table.ipynb>data table notebook</a>'\n",
              "            + ' to learn more about interactive tables.';\n",
              "          element.innerHTML = '';\n",
              "          dataTable['output_type'] = 'display_data';\n",
              "          await google.colab.output.renderOutput(dataTable, element);\n",
              "          const docLink = document.createElement('div');\n",
              "          docLink.innerHTML = docLinkHtml;\n",
              "          element.appendChild(docLink);\n",
              "        }\n",
              "      </script>\n",
              "    </div>\n",
              "  </div>\n",
              "  "
            ]
          },
          "metadata": {},
          "execution_count": 21
        }
      ]
    },
    {
      "cell_type": "markdown",
      "metadata": {
        "id": "sj3lwZctE7KP"
      },
      "source": [
        "**Qual a porcentagem de valores ausentes para a coluna `user_gender`?**\n"
      ]
    },
    {
      "cell_type": "code",
      "metadata": {
        "id": "g8GJ7kgLFEbr",
        "colab": {
          "base_uri": "https://localhost:8080/"
        },
        "outputId": "16e0b4f0-c4bb-4f53-e0f4-5fe35785c890"
      },
      "source": [
        "df_bike.user_gender.isnull().sum() / df_bike.shape[0]"
      ],
      "execution_count": null,
      "outputs": [
        {
          "output_type": "execute_result",
          "data": {
            "text/plain": [
              "0.0013782446175371187"
            ]
          },
          "metadata": {},
          "execution_count": 24
        }
      ]
    },
    {
      "cell_type": "code",
      "metadata": {
        "id": "zqVDxelCFTAd"
      },
      "source": [
        "#@title\n",
        "df_bike.user_gender.isnull().sum() / df_bike.shape[0]"
      ],
      "execution_count": null,
      "outputs": []
    },
    {
      "cell_type": "markdown",
      "metadata": {
        "id": "oDVOu-XpFZYI"
      },
      "source": [
        "**Preencha a coluna `user_gender` com o valor mais frequente.**"
      ]
    },
    {
      "cell_type": "code",
      "metadata": {
        "id": "7f9WWlD6FZnJ"
      },
      "source": [
        "ug_moda = df_bike.user_gender.mode()[0]\n",
        "df_bike.user_gender.fillna(ug_moda, inplace=True)"
      ],
      "execution_count": null,
      "outputs": []
    },
    {
      "cell_type": "code",
      "metadata": {
        "id": "4c5iYhx3Fyqa"
      },
      "source": [
        "#@title\n",
        "# ver o valor mais frequente\n",
        "print(df.user_gender.value_counts())\n",
        "\n",
        "# preencher os valores ausentes de user_gender com 'M'\n",
        "df.user_gender.fillna('M', inplace=True)"
      ],
      "execution_count": null,
      "outputs": []
    },
    {
      "cell_type": "markdown",
      "metadata": {
        "id": "ckDXwzIzF7XT"
      },
      "source": [
        "**Plote u boxplot para a coluna `ride_duration`.**"
      ]
    },
    {
      "cell_type": "code",
      "metadata": {
        "id": "xIluDO2wGGE6",
        "colab": {
          "base_uri": "https://localhost:8080/",
          "height": 283
        },
        "outputId": "b8957a3f-b041-4dd2-cdac-09a8b673a17a"
      },
      "source": [
        "df_bike.ride_duration.plot(kind='box')"
      ],
      "execution_count": null,
      "outputs": [
        {
          "output_type": "execute_result",
          "data": {
            "text/plain": [
              "<matplotlib.axes._subplots.AxesSubplot at 0x7f8226bc4100>"
            ]
          },
          "metadata": {},
          "execution_count": 29
        },
        {
          "output_type": "display_data",
          "data": {
            "text/plain": [
              "<Figure size 432x288 with 1 Axes>"
            ],
            "image/png": "[encoded data removed]"
          },
          "metadata": {
            "needs_background": "light"
          }
        }
      ]
    },
    {
      "cell_type": "code",
      "metadata": {
        "id": "kErG6xfpGGqT"
      },
      "source": [
        "#@title\n",
        "df_bike.ride_duration.plot(kind=\"box\")"
      ],
      "execution_count": null,
      "outputs": []
    }
  ]
}