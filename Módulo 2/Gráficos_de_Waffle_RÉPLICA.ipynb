{
  "nbformat": 4,
  "nbformat_minor": 0,
  "metadata": {
    "colab": {
      "provenance": [],
      "authorship_tag": "ABX9TyPyj2TMr7s4nySVLGKo138o",
      "include_colab_link": true
    },
    "kernelspec": {
      "name": "python3",
      "display_name": "Python 3"
    },
    "language_info": {
      "name": "python"
    }
  },
  "cells": [
    {
      "cell_type": "markdown",
      "metadata": {
        "id": "view-in-github",
        "colab_type": "text"
      },
      "source": [
        "<a href=\"https://colab.research.google.com/github/Nathan-oc/Estudos-DSNP/blob/main/Gr%C3%A1ficos_de_Waffle_R%C3%89PLICA.ipynb\" target=\"_parent\"><img src=\"https://colab.research.google.com/assets/colab-badge.svg\" alt=\"Open In Colab\"/></a>"
      ]
    },
    {
      "cell_type": "markdown",
      "source": [
        "# Introdução\n",
        "\n",
        "Esse notebook é uma réplica\n",
        "\n"
      ],
      "metadata": {
        "id": "34-ejcXa7rAg"
      }
    },
    {
      "cell_type": "code",
      "execution_count": null,
      "metadata": {
        "colab": {
          "base_uri": "https://localhost:8080/"
        },
        "id": "fNYmaZFN7Uwb",
        "outputId": "4d5a310f-eba2-41b1-856f-8147a46a5aab"
      },
      "outputs": [
        {
          "output_type": "stream",
          "name": "stdout",
          "text": [
            "\u001b[K     |████████████████████████████████| 25.1 MB 1.5 MB/s \n",
            "\u001b[?25h"
          ]
        }
      ],
      "source": [
        "!pip install pywaffle -q"
      ]
    },
    {
      "cell_type": "code",
      "source": [
        "import matplotlib.pyplot as plt\n",
        "import pywaffle as waffle\n",
        "from matplotlib.figure import Figure"
      ],
      "metadata": {
        "id": "qoa-FP1d9Ekh"
      },
      "execution_count": null,
      "outputs": []
    },
    {
      "cell_type": "code",
      "source": [
        "fig = Figure(\n",
        "  Class = waffle,\n",
        "    rows = 10,\n",
        "    columns = 10,\n",
        "    values = {'bolacha': 33,\n",
        "              'biscoito': 48,\n",
        "              'salgadinho': 19},\n",
        "    legend = {'loc': 'upper left', 'bbox_to_anchor': (1.1, 1)}\n",
        "    )\n",
        "\n",
        "fig.set_tight_layout(False)\n",
        "plt.show()"
      ],
      "metadata": {
        "colab": {
          "base_uri": "https://localhost:8080/",
          "height": 235
        },
        "id": "-ohFKPlu7jap",
        "outputId": "ca0a0dfb-be68-4b25-926b-3079dd1d2ac7"
      },
      "execution_count": null,
      "outputs": [
        {
          "output_type": "error",
          "ename": "TypeError",
          "evalue": "ignored",
          "traceback": [
            "\u001b[0;31m---------------------------------------------------------------------------\u001b[0m",
            "\u001b[0;31mTypeError\u001b[0m                                 Traceback (most recent call last)",
            "\u001b[0;32m<ipython-input-21-d4b89ec70e2a>\u001b[0m in \u001b[0;36m<module>\u001b[0;34m\u001b[0m\n\u001b[0;32m----> 1\u001b[0;31m fig = Figure(\n\u001b[0m\u001b[1;32m      2\u001b[0m   \u001b[0mClass\u001b[0m \u001b[0;34m=\u001b[0m \u001b[0mwaffle\u001b[0m\u001b[0;34m,\u001b[0m\u001b[0;34m\u001b[0m\u001b[0;34m\u001b[0m\u001b[0m\n\u001b[1;32m      3\u001b[0m     \u001b[0mrows\u001b[0m \u001b[0;34m=\u001b[0m \u001b[0;36m10\u001b[0m\u001b[0;34m,\u001b[0m\u001b[0;34m\u001b[0m\u001b[0;34m\u001b[0m\u001b[0m\n\u001b[1;32m      4\u001b[0m     \u001b[0mcolumns\u001b[0m \u001b[0;34m=\u001b[0m \u001b[0;36m10\u001b[0m\u001b[0;34m,\u001b[0m\u001b[0;34m\u001b[0m\u001b[0;34m\u001b[0m\u001b[0m\n\u001b[1;32m      5\u001b[0m     values = {'bolacha': 33,\n",
            "\u001b[0;31mTypeError\u001b[0m: __init__() got an unexpected keyword argument 'Class'"
          ]
        }
      ]
    },
    {
      "cell_type": "code",
      "source": [
        "fig = Figure()\n",
        "\n",
        "fig.set_tight_layout(False)\n",
        "plt.show()"
      ],
      "metadata": {
        "id": "7a7u1M6c8k2M"
      },
      "execution_count": null,
      "outputs": []
    },
    {
      "cell_type": "code",
      "source": [],
      "metadata": {
        "id": "6d1NG0Q19Myq"
      },
      "execution_count": null,
      "outputs": []
    }
  ]
}
